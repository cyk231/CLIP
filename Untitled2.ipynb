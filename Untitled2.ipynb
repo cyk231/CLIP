{
 "cells": [
  {
   "cell_type": "code",
   "execution_count": 1,
   "id": "d4d5cd5a-1171-4de9-bcd1-a5731068c799",
   "metadata": {},
   "outputs": [
    {
     "name": "stdout",
     "output_type": "stream",
     "text": [
      "Collecting ftfy\n",
      "  Downloading ftfy-6.3.1-py3-none-any.whl.metadata (7.3 kB)\n",
      "Requirement already satisfied: regex in d:\\anaconda\\envs\\pytorch\\lib\\site-packages (2024.11.6)\n",
      "Requirement already satisfied: tqdm in d:\\anaconda\\envs\\pytorch\\lib\\site-packages (4.67.1)\n",
      "Requirement already satisfied: wcwidth in d:\\anaconda\\envs\\pytorch\\lib\\site-packages (from ftfy) (0.2.5)\n",
      "Requirement already satisfied: colorama in d:\\anaconda\\envs\\pytorch\\lib\\site-packages (from tqdm) (0.4.6)\n",
      "Downloading ftfy-6.3.1-py3-none-any.whl (44 kB)\n",
      "Installing collected packages: ftfy\n",
      "Successfully installed ftfy-6.3.1\n",
      "Note: you may need to restart the kernel to use updated packages.\n"
     ]
    },
    {
     "name": "stderr",
     "output_type": "stream",
     "text": [
      "  WARNING: The script ftfy.exe is installed in 'D:\\Anaconda\\envs\\pytorch\\Scripts' which is not on PATH.\n",
      "  Consider adding this directory to PATH or, if you prefer to suppress this warning, use --no-warn-script-location.\n"
     ]
    }
   ],
   "source": [
    "pip install ftfy regex tqdm"
   ]
  },
  {
   "cell_type": "code",
   "execution_count": 3,
   "id": "afb757c5-f8be-4f2b-8fe5-ad5f0f045874",
   "metadata": {},
   "outputs": [
    {
     "name": "stdout",
     "output_type": "stream",
     "text": [
      "Collecting git+https://github.com/openai/CLIP.git\n",
      "  Cloning https://github.com/openai/CLIP.git to c:\\users\\administrator\\appdata\\local\\temp\\pip-req-build-oj7_ghwa\n",
      "  Resolved https://github.com/openai/CLIP.git to commit dcba3cb2e2827b402d2701e7e1c7d9fed8a20ef1\n",
      "  Preparing metadata (setup.py): started\n",
      "  Preparing metadata (setup.py): finished with status 'done'\n",
      "Requirement already satisfied: ftfy in d:\\anaconda\\envs\\pytorch\\lib\\site-packages (from clip==1.0) (6.3.1)\n",
      "Requirement already satisfied: packaging in d:\\anaconda\\envs\\pytorch\\lib\\site-packages (from clip==1.0) (24.2)\n",
      "Requirement already satisfied: regex in d:\\anaconda\\envs\\pytorch\\lib\\site-packages (from clip==1.0) (2024.11.6)\n",
      "Requirement already satisfied: tqdm in d:\\anaconda\\envs\\pytorch\\lib\\site-packages (from clip==1.0) (4.67.1)\n",
      "Requirement already satisfied: torch in d:\\anaconda\\envs\\pytorch\\lib\\site-packages (from clip==1.0) (2.5.1)\n",
      "Requirement already satisfied: torchvision in d:\\anaconda\\envs\\pytorch\\lib\\site-packages (from clip==1.0) (0.20.1)\n",
      "Requirement already satisfied: wcwidth in d:\\anaconda\\envs\\pytorch\\lib\\site-packages (from ftfy->clip==1.0) (0.2.5)\n",
      "Requirement already satisfied: filelock in d:\\anaconda\\envs\\pytorch\\lib\\site-packages (from torch->clip==1.0) (3.13.1)\n",
      "Requirement already satisfied: typing-extensions>=4.8.0 in d:\\anaconda\\envs\\pytorch\\lib\\site-packages (from torch->clip==1.0) (4.12.2)\n",
      "Requirement already satisfied: setuptools in d:\\anaconda\\envs\\pytorch\\lib\\site-packages (from torch->clip==1.0) (75.8.0)\n",
      "Requirement already satisfied: sympy==1.13.1 in d:\\anaconda\\envs\\pytorch\\lib\\site-packages (from torch->clip==1.0) (1.13.1)\n",
      "Requirement already satisfied: networkx in d:\\anaconda\\envs\\pytorch\\lib\\site-packages (from torch->clip==1.0) (3.4.2)\n",
      "Requirement already satisfied: jinja2 in d:\\anaconda\\envs\\pytorch\\lib\\site-packages (from torch->clip==1.0) (3.1.5)\n",
      "Requirement already satisfied: fsspec in d:\\anaconda\\envs\\pytorch\\lib\\site-packages (from torch->clip==1.0) (2024.12.0)\n",
      "Requirement already satisfied: mpmath<1.4,>=1.1.0 in d:\\anaconda\\envs\\pytorch\\lib\\site-packages (from sympy==1.13.1->torch->clip==1.0) (1.3.0)\n",
      "Requirement already satisfied: numpy in d:\\anaconda\\envs\\pytorch\\lib\\site-packages (from torchvision->clip==1.0) (1.26.4)\n",
      "Requirement already satisfied: pillow!=8.3.*,>=5.3.0 in d:\\anaconda\\envs\\pytorch\\lib\\site-packages (from torchvision->clip==1.0) (11.1.0)\n",
      "Requirement already satisfied: colorama in d:\\anaconda\\envs\\pytorch\\lib\\site-packages (from tqdm->clip==1.0) (0.4.6)\n",
      "Requirement already satisfied: MarkupSafe>=2.0 in d:\\anaconda\\envs\\pytorch\\lib\\site-packages (from jinja2->torch->clip==1.0) (3.0.2)\n",
      "Building wheels for collected packages: clip\n",
      "  Building wheel for clip (setup.py): started\n",
      "  Building wheel for clip (setup.py): finished with status 'done'\n",
      "  Created wheel for clip: filename=clip-1.0-py3-none-any.whl size=1369594 sha256=3a3a47be69aea245e9f496cd7dfab8bd92c1a3e7d85042e72c2d02f28cbffeb6\n",
      "  Stored in directory: C:\\Users\\Administrator\\AppData\\Local\\Temp\\pip-ephem-wheel-cache-g68d7cbd\\wheels\\35\\3e\\df\\3d24cbfb3b6a06f17a2bfd7d1138900d4365d9028aa8f6e92f\n",
      "Successfully built clip\n",
      "Installing collected packages: clip\n",
      "Successfully installed clip-1.0\n",
      "Note: you may need to restart the kernel to use updated packages.\n"
     ]
    },
    {
     "name": "stderr",
     "output_type": "stream",
     "text": [
      "  Running command git clone --filter=blob:none --quiet https://github.com/openai/CLIP.git 'C:\\Users\\Administrator\\AppData\\Local\\Temp\\pip-req-build-oj7_ghwa'\n"
     ]
    }
   ],
   "source": [
    "pip install git+https://github.com/openai/CLIP.git"
   ]
  },
  {
   "cell_type": "code",
   "execution_count": 9,
   "id": "fd4903f1-a6ff-4945-a1ac-61462d9b7828",
   "metadata": {},
   "outputs": [],
   "source": [
    "import numpy as np\n",
    "import torch\n",
    "import clip\n",
    "from PIL import Image "
   ]
  },
  {
   "cell_type": "code",
   "execution_count": 11,
   "id": "cb293fd0-ca16-4f71-ac7c-cc5d851f45ac",
   "metadata": {},
   "outputs": [
    {
     "name": "stderr",
     "output_type": "stream",
     "text": [
      "100%|███████████████████████████████████████| 338M/338M [00:08<00:00, 42.0MiB/s]\n"
     ]
    }
   ],
   "source": [
    "device = \"cuda\" if torch.cuda.is_available() else \"cpu\"\n",
    "model, preprocess = clip.load(\"ViT-B/32\", device=device)"
   ]
  },
  {
   "cell_type": "code",
   "execution_count": 23,
   "id": "d804eb4f-0c46-439a-ad5a-a93d8be60a98",
   "metadata": {},
   "outputs": [],
   "source": [
    "image = preprocess(Image.open(\"red_envelope.jpg\")).unsqueeze(0).to(device)\n",
    "text = clip.tokenize([\"china\",\"chinese new year\",\"red\",\"envelope\"]).to(device)"
   ]
  },
  {
   "cell_type": "code",
   "execution_count": 31,
   "id": "ad414013-989c-43ac-9dbd-cd7206adcce9",
   "metadata": {},
   "outputs": [
    {
     "name": "stdout",
     "output_type": "stream",
     "text": [
      "[[0.0696   0.888    0.002655 0.03964 ]]\n"
     ]
    }
   ],
   "source": [
    "with torch.no_grad():\n",
    "    # image_feature = model.encode_image(image)\n",
    "    # text_feature = model.encode_text(text)\n",
    "\n",
    "    logits_per_image ,logits_per_text = model(image, text)\n",
    "    probs = logits_per_image.softmax(dim=-1).cpu().numpy()\n",
    "\n",
    "print(probs)"
   ]
  },
  {
   "cell_type": "code",
   "execution_count": null,
   "id": "8e48a90c-d88c-4f03-bc1d-0d792e204e6c",
   "metadata": {},
   "outputs": [],
   "source": []
  }
 ],
 "metadata": {
  "kernelspec": {
   "display_name": "pytorch",
   "language": "python",
   "name": "pytorch"
  },
  "language_info": {
   "codemirror_mode": {
    "name": "ipython",
    "version": 3
   },
   "file_extension": ".py",
   "mimetype": "text/x-python",
   "name": "python",
   "nbconvert_exporter": "python",
   "pygments_lexer": "ipython3",
   "version": "3.12.4"
  }
 },
 "nbformat": 4,
 "nbformat_minor": 5
}
